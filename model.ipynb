import pandas as pd
import numpy as np
import statsmodels.api as sm
import pingouin as pg

# Set a random seed for reproducibility
np.random.seed(42)

# Number of rows in the dataset
num_rows = 150

# Generate random data for the dataset
data = {
    'GND': np.random.choice([0, 1], size=num_rows),
    'GENDER': np.random.choice([0, 1], size=num_rows),
    'AGE': np.random.randint(18, 60, size=num_rows),
    'EDUCATION LEVEL': np.random.randint(1, 5, size=num_rows),
    'NO OF FAMILY MEMBERS': np.random.randint(3, 7, size=num_rows),
    'TOTAL OF DEPENDENTS': np.random.randint(1, 5, size=num_rows),
    'NO OF EARNER': np.random.randint(1, 4, size=num_rows),
    'JOB': np.random.randint(1, 5, size=num_rows),
    'INCOME': np.random.randint(40000, 80000, size=num_rows),
    'REASON': np.random.randint(1, 5, size=num_rows),
    'LOAN AMOUNT': np.random.randint(5000, 30000, size=num_rows),
    'Loan Premium Value': np.random.randint(5000, 10000, size=num_rows),
    'Previous Loans': np.random.choice([0, 1], size=num_rows),
    'No of Previous Loans': np.random.randint(0, 5, size=num_rows),
    'Reasons for Previous Loan': np.random.randint(0, 5, size=num_rows),
    'Loan Policy Awareness': np.random.randint(0, 1, size=num_rows),
    'Effects of Loan': np.random.randint(0, 5, size=num_rows),
    'Loan impact on living': np.random.randint(0, 5, size=num_rows),
    'No of defaults in repayment of loan': np.random.choice([0, 1], size=num_rows),
    'Instant loan properly paid': np.random.choice([0, 1], size=num_rows),
    'Hoping to get loan future': np.random.choice([0, 1], size=num_rows),
    'Reasons for future loan': np.random.randint(0, 5, size=num_rows),
    'Your idea loans': np.random.randint(0, 5, size=num_rows)
}

# Create a DataFrame
df = pd.DataFrame(data)

# Adjust the multiplier randomly
multiplier = np.random.uniform(1, 10, size=num_rows)

# Ensure that Loan values are not larger than 500000
df['LOAN AMOUNT'] = np.where(df['LOAN AMOUNT'] > 500000, 500000, df['LOAN AMOUNT'])

# Ensure Loan Premium Value is at least 25% less than Income
df['Loan Premium Value'] = np.maximum(0.75 * df['INCOME'], df['Loan Premium Value'])

# Independent and dependent variables for regression
dependent_var = 'LOAN AMOUNT'
independent_vars = ['AGE', 'JOB', 'GENDER', 'INCOME', 'EDUCATION LEVEL', 'REASON',
                     'No of Previous Loans', 'No of defaults in repayment of loan']

# Convert to NumPy arrays
X = np.asarray(df[independent_vars])
y = np.asarray(df[dependent_var])

# Add constant to independent variables
X = sm.add_constant(X)

# Fit the multiple linear regression model
model = sm.OLS(y, X).fit()

# Print the summary statistics
print(model.summary())

# Calculate Cronbach's alpha
alpha, items = pg.cronbach_alpha(df[independent_vars])
print(f"Cronbach's alpha value: {alpha:.3f}")

# Perform skewness test
from scipy.stats import skew

skewness = skew(df[dependent_var])
print(f"Skewness: {skewness:.3f}")

# Perform significance test
# anova = pg.anova(dv=dependent_var, between=independent_vars, data=df)
# print(anova)

# Add Loan Amount based on a simple linear regression-like relationship
df['LOAN AMOUNT'] = 300 + 20 * df['INCOME'] + 10 * df['AGE'] - 5 * df['TOTAL OF DEPENDENTS']

# Display the entire DataFrame
df